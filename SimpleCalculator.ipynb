{
  "nbformat": 4,
  "nbformat_minor": 0,
  "metadata": {
    "colab": {
      "provenance": [],
      "authorship_tag": "ABX9TyMxUhY0XuQwan03IybgnQ7K",
      "include_colab_link": true
    },
    "kernelspec": {
      "name": "python3",
      "display_name": "Python 3"
    },
    "language_info": {
      "name": "python"
    }
  },
  "cells": [
    {
      "cell_type": "markdown",
      "metadata": {
        "id": "view-in-github",
        "colab_type": "text"
      },
      "source": [
        "<a href=\"https://colab.research.google.com/github/mjavadpur/PythonIntro/blob/main/SimpleCalculator.ipynb\" target=\"_parent\"><img src=\"https://colab.research.google.com/assets/colab-badge.svg\" alt=\"Open In Colab\"/></a>"
      ]
    },
    {
      "cell_type": "markdown",
      "source": [
        "# **A simple Calculator for Introduction to Python workshop task**\n",
        "Mohammad Javadpur (@mjavadpur)"
      ],
      "metadata": {
        "id": "So3kb2xPC_l8"
      }
    },
    {
      "cell_type": "code",
      "execution_count": 8,
      "metadata": {
        "id": "dX3n3Ynv31xz",
        "colab": {
          "base_uri": "https://localhost:8080/"
        },
        "outputId": "3099f8d9-4b45-49d9-eae8-849b4eac628e"
      },
      "outputs": [
        {
          "output_type": "stream",
          "name": "stdout",
          "text": [
            "Please enter an Operator: \n",
            "                + for Summation\n",
            "                - for Subtraction\n",
            "                * for Multiplation\n",
            "                / for Division\n",
            "                % for Reminder\n",
            "                \\ for Correct division\n",
            "                ^ for Power\n",
            "^\n",
            "Please enter first number: 6\n",
            "Please enter second number: 65\n",
            "Power of 6.0 and 65.0 is 3.800417199778397e+50\n"
          ]
        }
      ],
      "source": [
        "operator = input(\"\"\"Please enter an Operator: \n",
        "                + for Summation\n",
        "                - for Subtraction\n",
        "                * for Multiplation\n",
        "                / for Division\n",
        "                % for Reminder\n",
        "                \\ for Correct division\n",
        "                ^ for Power\\n\"\"\")\n",
        "op1 = 0\n",
        "op2 = 0\n",
        "\n",
        "if operator in {'+','-','*','/','%','\\\\','^'}:\n",
        "\n",
        "  # Read first operand\n",
        "  ops = True\n",
        "  while ops:\n",
        "    try:\n",
        "      op1 = float(input('Please enter first number: '))\n",
        "      ops = False\n",
        "    except Exception as e:\n",
        "      print('You entered an incorrect character!!')\n",
        "      print(e)\n",
        "      \n",
        " # Read Second operand\n",
        "  ops = True\n",
        "  while ops:\n",
        "    try:\n",
        "      op2 = float(input('Please enter second number: '))\n",
        "      ops = False\n",
        "    except Exception as e:\n",
        "      print('You entered an incorrect character!!')\n",
        "      print(e)\n",
        "else:\n",
        "    print('You entered an incorrect operand!!')\n",
        "\n",
        "  \n",
        "if operator == '+':\n",
        "  print('Sum of {} and {} is {}'.format( op1 , op2 , op1 + op2 ))\n",
        "elif operator == '-':\n",
        "  print('Subtraction of {} and {} is {}'.format( op1 , op2 , op1 - op2 ))\n",
        "elif operator == '*':\n",
        "  print('Multiple of {} and {} is {}'.format( op1 , op2 , op1 * op2 ))\n",
        "elif operator == '/':\n",
        "  if op2 != 0:\n",
        "    print('Divided of {} and {} is {}'.format( op1 , op2 , op1 / op2 ))\n",
        "  else:\n",
        "    print(\"Second number is zero.\")\n",
        "elif operator == '%':\n",
        "  print('Remind of devision {} and {} is {}'.format( op1 , op2 , op1 % op2 ))\n",
        "elif operator == '\\\\':\n",
        "  print('Correct division of {} and {} is {}'.format( op1 , op2 , op1 // op2 ))\n",
        "elif operator == '^':\n",
        "  print('Power of {} and {} is {}'.format( op1 , op2 , op1 ** op2 ))\n",
        "else:\n",
        "  print('Have a good day!!')\n"
      ]
    }
  ]
}