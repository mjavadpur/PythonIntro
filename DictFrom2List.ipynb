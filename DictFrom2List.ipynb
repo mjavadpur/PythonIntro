{
  "nbformat": 4,
  "nbformat_minor": 0,
  "metadata": {
    "colab": {
      "provenance": [],
      "authorship_tag": "ABX9TyOszTjwoapLPn+PI9HK2rEc",
      "include_colab_link": true
    },
    "kernelspec": {
      "name": "python3",
      "display_name": "Python 3"
    },
    "language_info": {
      "name": "python"
    }
  },
  "cells": [
    {
      "cell_type": "markdown",
      "metadata": {
        "id": "view-in-github",
        "colab_type": "text"
      },
      "source": [
        "<a href=\"https://colab.research.google.com/github/mjavadpur/PythonIntro/blob/main/DictFrom2List.ipynb\" target=\"_parent\"><img src=\"https://colab.research.google.com/assets/colab-badge.svg\" alt=\"Open In Colab\"/></a>"
      ]
    },
    {
      "cell_type": "markdown",
      "source": [
        "# **Create dictionray from two list**"
      ],
      "metadata": {
        "id": "NlV0fDKuXzS1"
      }
    },
    {
      "cell_type": "code",
      "execution_count": 2,
      "metadata": {
        "colab": {
          "base_uri": "https://localhost:8080/"
        },
        "id": "4hNofPIpXTAA",
        "outputId": "63bd46de-c7ab-40b5-85ce-9c2f4119ad1f"
      },
      "outputs": [
        {
          "output_type": "execute_result",
          "data": {
            "text/plain": [
              "{'Mehdi': 16, 'Hosein': 17, 'Sahra': 14}"
            ]
          },
          "metadata": {},
          "execution_count": 2
        }
      ],
      "source": [
        "students = [\"Mehdi\",\"Hosein\",\"Sahra\"]\n",
        "marks = [16,17,14]\n",
        "\n",
        "stu_marks = {stu:mark for (stu,mark) in zip(students,marks)}\n",
        "stu_marks"
      ]
    }
  ]
}