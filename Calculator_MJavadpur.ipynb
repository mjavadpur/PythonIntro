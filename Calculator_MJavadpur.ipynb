{
  "nbformat": 4,
  "nbformat_minor": 0,
  "metadata": {
    "colab": {
      "provenance": [],
      "authorship_tag": "ABX9TyMfosNHEODlOerLwuyWpSYR",
      "include_colab_link": true
    },
    "kernelspec": {
      "name": "python3",
      "display_name": "Python 3"
    },
    "language_info": {
      "name": "python"
    }
  },
  "cells": [
    {
      "cell_type": "markdown",
      "metadata": {
        "id": "view-in-github",
        "colab_type": "text"
      },
      "source": [
        "<a href=\"https://colab.research.google.com/github/mjavadpur/PythonIntro/blob/main/Calculator_MJavadpur.ipynb\" target=\"_parent\"><img src=\"https://colab.research.google.com/assets/colab-badge.svg\" alt=\"Open In Colab\"/></a>"
      ]
    },
    {
      "cell_type": "markdown",
      "source": [
        "# ** Calculator for Introduction to Python workshop final task**\n",
        "Mohammad Javadpur (@mjavadpur)(mjavadpur@gmail.com)"
      ],
      "metadata": {
        "id": "So3kb2xPC_l8"
      }
    },
    {
      "cell_type": "code",
      "source": [
        "def Sum(in1,in2):\n",
        "  return in1 + in2\n",
        "\n",
        "\n",
        "def Sub(in1,in2):\n",
        "  return in1 - in2\n",
        "\n",
        "\n",
        "def Mult(in1,in2):\n",
        "  return in1 * in2\n",
        "\n",
        "\n",
        "def Div(in1,in2):\n",
        "  if in2 == 0:\n",
        "    return 0\n",
        "  else:    \n",
        "    return in1 / in2\n",
        "\n",
        "\n",
        "def Remin(in1,in2):\n",
        "  if in2 == 0:\n",
        "    return 0\n",
        "  else:    \n",
        "    return in1 % in2\n",
        "\n",
        "\n",
        "def Correct_Division(in1,in2):\n",
        "  if in2 == 0:\n",
        "    return 0\n",
        "  else:    \n",
        "    return in1 // in2\n",
        "\n",
        "\n",
        "def Power(in1,in2):\n",
        "  return in1 ** in2\n",
        "  \n"
      ],
      "metadata": {
        "id": "2V-AV0JMTz5l"
      },
      "execution_count": 12,
      "outputs": []
    },
    {
      "cell_type": "code",
      "source": [
        "def calc():\n",
        "  execute = True\n",
        "  while execute:\n",
        "    operator = input(\"\"\"\\nPlease enter an Operator: \n",
        "                  + for Summation\n",
        "                  - for Subtraction\n",
        "                  * for Multiplation\n",
        "                  / for Division\n",
        "                  % for Reminder\n",
        "                  \\ for Correct division\n",
        "                  ^ for Power\n",
        "                  # for Exit\\n\"\"\")\n",
        "    # EXIT\n",
        "    if operator == '#':\n",
        "      print('You are logged out!!')\n",
        "      execute = False\n",
        "      break\n",
        "\n",
        "    op1 = 0\n",
        "    op2 = 0\n",
        "\n",
        "    if operator in {'+','-','*','/','%','\\\\','^'}:\n",
        "\n",
        "      # Read first operand\n",
        "      ops = True\n",
        "      while ops:\n",
        "        try:\n",
        "          op1 = float(input('Please enter first number: '))\n",
        "          ops = False\n",
        "        except Exception as e:\n",
        "          print('You entered an incorrect character!!')\n",
        "          print(e)\n",
        "          \n",
        "    # Read Second operand\n",
        "      ops = True\n",
        "      while ops:\n",
        "        try:\n",
        "          op2 = float(input('Please enter second number: '))\n",
        "          ops = False\n",
        "        except Exception as e:\n",
        "          print('You entered an incorrect character!!')\n",
        "          print(e)\n",
        "    else:\n",
        "        print('You entered an incorrect operand!!')\n",
        "\n",
        "      \n",
        "    if operator == '+':\n",
        "      print('Sum of {} and {} is {}'.format( op1 , op2 , Sum(op1, op2) ))\n",
        "    elif operator == '-':\n",
        "      print('Subtraction of {} and {} is {}'.format( op1 , op2 , Sub(op1, op2) ))\n",
        "    elif operator == '*':\n",
        "      print('Multiple of {} and {} is {}'.format( op1 , op2 , Mult(op1 , op2) ))\n",
        "    elif operator == '/':\n",
        "      if op2 != 0:\n",
        "        print('Divided of {} and {} is {}'.format( op1 , op2 , Div(op1 , op2 )))\n",
        "      else:\n",
        "        print(\"Second number is zero.\")\n",
        "    elif operator == '%':\n",
        "      if op2 != 0:\n",
        "        print('Remind of devision {} and {} is {}'.format( op1 , op2 , Remin(op1 , op2 )))\n",
        "      else:\n",
        "        print(\"Second number is zero.\")\n",
        "    elif operator == '\\\\':\n",
        "      if op2 != 0:\n",
        "        print('Correct division of {} and {} is {}'.format( op1 , op2 , Correct_Division(op1 , op2 )))\n",
        "      else:\n",
        "        print(\"Second number is zero.\")\n",
        "    elif operator == '^':\n",
        "      print('Power of {} and {} is {}'.format( op1 , op2 , Power(op1 , op2 )))\n",
        "    elif operator == '#':\n",
        "      execute = False\n",
        "    else:\n",
        "      print('Have a good day!!')"
      ],
      "metadata": {
        "id": "1EE3-R9yTfgS"
      },
      "execution_count": 33,
      "outputs": []
    },
    {
      "cell_type": "code",
      "execution_count": 34,
      "metadata": {
        "id": "dX3n3Ynv31xz",
        "colab": {
          "base_uri": "https://localhost:8080/"
        },
        "outputId": "632ec9a3-03cf-4674-edac-5de79e3558b9"
      },
      "outputs": [
        {
          "output_type": "stream",
          "name": "stdout",
          "text": [
            "\n",
            "Please enter an Operator: \n",
            "                  + for Summation\n",
            "                  - for Subtraction\n",
            "                  * for Multiplation\n",
            "                  / for Division\n",
            "                  % for Reminder\n",
            "                  \\ for Correct division\n",
            "                  ^ for Power\n",
            "                  # for Exit\n",
            "*\n",
            "Please enter first number: 6\n",
            "Please enter second number: 5\n",
            "Multiple of 6.0 and 5.0 is 30.0\n",
            "\n",
            "Please enter an Operator: \n",
            "                  + for Summation\n",
            "                  - for Subtraction\n",
            "                  * for Multiplation\n",
            "                  / for Division\n",
            "                  % for Reminder\n",
            "                  \\ for Correct division\n",
            "                  ^ for Power\n",
            "                  # for Exit\n",
            "#\n",
            "You are logged out!!\n"
          ]
        }
      ],
      "source": [
        "calc()\n"
      ]
    }
  ]
}