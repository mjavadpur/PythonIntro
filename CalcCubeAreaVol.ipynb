{
  "cells": [
    {
      "cell_type": "markdown",
      "metadata": {
        "id": "view-in-github",
        "colab_type": "text"
      },
      "source": [
        "<a href=\"https://colab.research.google.com/github/mjavadpur/PythonIntro/blob/main/CalcCubeAreaVol.ipynb\" target=\"_parent\"><img src=\"https://colab.research.google.com/assets/colab-badge.svg\" alt=\"Open In Colab\"/></a>"
      ]
    },
    {
      "cell_type": "markdown",
      "source": [
        "# **Calculate cube Area & Volume**"
      ],
      "metadata": {
        "id": "Aj9_VR39ZeQg"
      },
      "id": "Aj9_VR39ZeQg"
    },
    {
      "cell_type": "code",
      "execution_count": 1,
      "id": "c95ea928",
      "metadata": {
        "colab": {
          "base_uri": "https://localhost:8080/"
        },
        "id": "c95ea928",
        "outputId": "f3c72477-b3d4-4b18-ead3-b15680cf77fd"
      },
      "outputs": [
        {
          "output_type": "stream",
          "name": "stdout",
          "text": [
            "Please enter cube edge len: 3\n",
            "\n",
            "Cube edge len: 3.000000 \n",
            "Area: 54.000000 \n",
            "Volume: 27.000000.\n"
          ]
        }
      ],
      "source": [
        "e = float(input(\"Please enter cube edge len: \"))\n",
        "\n",
        "area = (e**2)*6\n",
        "\n",
        "volume = e**3\n",
        "\n",
        "print(\"\\nCube edge len: %f \\nArea: %f \\nVolume: %f.\"%( e , area , volume ))"
      ]
    },
    {
      "cell_type": "code",
      "execution_count": null,
      "id": "8598577b",
      "metadata": {
        "id": "8598577b"
      },
      "outputs": [],
      "source": []
    }
  ],
  "metadata": {
    "kernelspec": {
      "display_name": "Python 3 (ipykernel)",
      "language": "python",
      "name": "python3"
    },
    "language_info": {
      "codemirror_mode": {
        "name": "ipython",
        "version": 3
      },
      "file_extension": ".py",
      "mimetype": "text/x-python",
      "name": "python",
      "nbconvert_exporter": "python",
      "pygments_lexer": "ipython3",
      "version": "3.10.9"
    },
    "colab": {
      "provenance": [],
      "include_colab_link": true
    }
  },
  "nbformat": 4,
  "nbformat_minor": 5
}