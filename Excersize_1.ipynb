{
  "cells": [
    {
      "cell_type": "markdown",
      "metadata": {
        "id": "view-in-github",
        "colab_type": "text"
      },
      "source": [
        "<a href=\"https://colab.research.google.com/github/mjavadpur/PythonIntro/blob/main/Excersize_1.ipynb\" target=\"_parent\"><img src=\"https://colab.research.google.com/assets/colab-badge.svg\" alt=\"Open In Colab\"/></a>"
      ]
    },
    {
      "cell_type": "markdown",
      "source": [
        "# **Calculate circle Area & Environment**"
      ],
      "metadata": {
        "id": "Aj9_VR39ZeQg"
      },
      "id": "Aj9_VR39ZeQg"
    },
    {
      "cell_type": "code",
      "execution_count": 3,
      "id": "c95ea928",
      "metadata": {
        "colab": {
          "base_uri": "https://localhost:8080/"
        },
        "id": "c95ea928",
        "outputId": "7d958ccb-a1e3-4075-94ec-e98d9d6c36ab"
      },
      "outputs": [
        {
          "output_type": "stream",
          "name": "stdout",
          "text": [
            "Please enter circle diameter: 12\n",
            "\n",
            "Circle diameter: 12.000000 \n",
            "Area: 113.097336 \n",
            "Environment: 37.699112.\n"
          ]
        }
      ],
      "source": [
        "import math\n",
        "pi = math.pi\n",
        "\n",
        "d = float(input(\"Please enter circle diameter: \"))\n",
        "r = d/2\n",
        "area = pi*r**2\n",
        "\n",
        "environment = 2*pi*r\n",
        "\n",
        "print(\"\\nCircle diameter: %f \\nArea: %f \\nEnvironment: %f.\"%( d , area , environment ))"
      ]
    },
    {
      "cell_type": "code",
      "execution_count": null,
      "id": "8598577b",
      "metadata": {
        "id": "8598577b"
      },
      "outputs": [],
      "source": []
    }
  ],
  "metadata": {
    "kernelspec": {
      "display_name": "Python 3 (ipykernel)",
      "language": "python",
      "name": "python3"
    },
    "language_info": {
      "codemirror_mode": {
        "name": "ipython",
        "version": 3
      },
      "file_extension": ".py",
      "mimetype": "text/x-python",
      "name": "python",
      "nbconvert_exporter": "python",
      "pygments_lexer": "ipython3",
      "version": "3.10.9"
    },
    "colab": {
      "provenance": [],
      "include_colab_link": true
    }
  },
  "nbformat": 4,
  "nbformat_minor": 5
}