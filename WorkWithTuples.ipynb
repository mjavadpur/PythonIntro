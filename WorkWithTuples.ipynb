{
  "nbformat": 4,
  "nbformat_minor": 0,
  "metadata": {
    "colab": {
      "provenance": [],
      "authorship_tag": "ABX9TyOfD5WLYuYu3i/+4VaXlskK",
      "include_colab_link": true
    },
    "kernelspec": {
      "name": "python3",
      "display_name": "Python 3"
    },
    "language_info": {
      "name": "python"
    }
  },
  "cells": [
    {
      "cell_type": "markdown",
      "metadata": {
        "id": "view-in-github",
        "colab_type": "text"
      },
      "source": [
        "<a href=\"https://colab.research.google.com/github/mjavadpur/PythonIntro/blob/main/WorkWithTuples.ipynb\" target=\"_parent\"><img src=\"https://colab.research.google.com/assets/colab-badge.svg\" alt=\"Open In Colab\"/></a>"
      ]
    },
    {
      "cell_type": "markdown",
      "source": [
        "# **Create empty TUPLE**"
      ],
      "metadata": {
        "id": "MUJZDMiBetHp"
      }
    },
    {
      "cell_type": "code",
      "execution_count": 2,
      "metadata": {
        "colab": {
          "base_uri": "https://localhost:8080/"
        },
        "id": "Zmh8QyhYeYc-",
        "outputId": "b041cd1f-fd70-4a8f-c892-0fafb50d4310"
      },
      "outputs": [
        {
          "output_type": "execute_result",
          "data": {
            "text/plain": [
              "tuple"
            ]
          },
          "metadata": {},
          "execution_count": 2
        }
      ],
      "source": [
        "empty_tuple = ()\n",
        "\n",
        "type(empty_tuple)"
      ]
    },
    {
      "cell_type": "markdown",
      "source": [
        "Sisters & Brothers TUPLE"
      ],
      "metadata": {
        "id": "N9Ut_QdVez_5"
      }
    },
    {
      "cell_type": "code",
      "source": [
        "sisters = (\"Azize\",\"Batul\",\"Laleh\")\n",
        "brothers = (\"Ahmad\",)\n"
      ],
      "metadata": {
        "id": "kKqEemFmezXp"
      },
      "execution_count": 3,
      "outputs": []
    },
    {
      "cell_type": "markdown",
      "source": [
        "Link 2 Tuples"
      ],
      "metadata": {
        "id": "-pjSTRbRezLq"
      }
    },
    {
      "cell_type": "code",
      "source": [
        "sisters_brothers = sisters + brothers\n",
        "sisters_brothers\n"
      ],
      "metadata": {
        "colab": {
          "base_uri": "https://localhost:8080/"
        },
        "id": "WgrJWOQIfLYr",
        "outputId": "573eca75-a790-43f3-dbe9-d7c6db54e1d5"
      },
      "execution_count": 4,
      "outputs": [
        {
          "output_type": "execute_result",
          "data": {
            "text/plain": [
              "('Azize', 'Batul', 'Laleh', 'Ahmad')"
            ]
          },
          "metadata": {},
          "execution_count": 4
        }
      ]
    },
    {
      "cell_type": "markdown",
      "source": [
        "# **Add Parents to tuple**"
      ],
      "metadata": {
        "id": "546EMPO_faxy"
      }
    },
    {
      "cell_type": "code",
      "source": [
        "family_members = (\"Father\" , \"Mother\") + sisters_brothers\n",
        "family_members"
      ],
      "metadata": {
        "colab": {
          "base_uri": "https://localhost:8080/"
        },
        "id": "t2fIvvIRfhq1",
        "outputId": "31649c43-5323-4df2-871e-f9183e488762"
      },
      "execution_count": 6,
      "outputs": [
        {
          "output_type": "execute_result",
          "data": {
            "text/plain": [
              "('Father', 'Mother', 'Azize', 'Batul', 'Laleh', 'Ahmad')"
            ]
          },
          "metadata": {},
          "execution_count": 6
        }
      ]
    }
  ]
}